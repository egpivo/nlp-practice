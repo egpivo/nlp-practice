{
 "cells": [
  {
   "cell_type": "code",
   "execution_count": 1,
   "metadata": {},
   "outputs": [],
   "source": [
    "import logging\n",
    "\n",
    "from nlp_practice.case.translation.data.dataloader import TrainDataloader\n",
    "from nlp_practice.case.translation.model.decoder import AttentionDecoderRNN, DecoderRNN\n",
    "from nlp_practice.case.translation.model.encoder import EncoderRNN\n",
    "from nlp_practice.case.translation.trainer import Trainer\n",
    "\n",
    "logging.basicConfig(level=logging.INFO)\n",
    "LOGGER = logging.getLogger()"
   ]
  },
  {
   "cell_type": "code",
   "execution_count": 2,
   "metadata": {},
   "outputs": [],
   "source": [
    "batch_size = 32\n",
    "hidden_size = 128\n",
    "dropout_rate = 0.1\n",
    "num_epochs = 100\n",
    "learning_rate = 0.0001\n",
    "device = \"cpu\"\n",
    "data_bath_path = \"../../data/translation\"\n",
    "normal_checkpoint = \"normal_seq2seq.pt\"\n",
    "attention_checkpoint = \"attention_seq2seq.pt\""
   ]
  },
  {
   "cell_type": "code",
   "execution_count": 3,
   "metadata": {},
   "outputs": [],
   "source": [
    "dataloader_instance = TrainDataloader(\n",
    "    batch_size, device, data_bath_path\n",
    ")\n",
    "dataloader = dataloader_instance.dataloader\n",
    "input_language = dataloader_instance.input_language\n",
    "output_language = dataloader_instance.output_language\n",
    "encoder = EncoderRNN(\n",
    "    input_size=input_language.num_words,\n",
    "    hidden_size=hidden_size,\n",
    "    dropout_rate=dropout_rate,\n",
    ").to(device)\n",
    "\n",
    "\n",
    "normal_decoder = DecoderRNN(\n",
    "    hidden_size=hidden_size,\n",
    "    output_size=output_language.num_words,\n",
    "    dropout_rate=dropout_rate,\n",
    "    device=device,\n",
    ").to(device)\n",
    "\n",
    "attention_decoder = AttentionDecoderRNN(\n",
    "    hidden_size=hidden_size,\n",
    "    output_size=output_language.num_words,\n",
    "    dropout_rate=dropout_rate,\n",
    "    device=device,\n",
    ").to(device)\n"
   ]
  },
  {
   "cell_type": "code",
   "execution_count": 4,
   "metadata": {},
   "outputs": [
    {
     "name": "stderr",
     "output_type": "stream",
     "text": [
      "  6%|▌         | 6/100 [01:02<16:14, 10.36s/it]"
     ]
    }
   ],
   "source": [
    "\n",
    "normal_trainer = Trainer(\n",
    "    train_dataloader=dataloader,\n",
    "    encoder=encoder,\n",
    "    decoder=attention_decoder,\n",
    "    num_epochs=num_epochs,\n",
    "    learning_rate=learning_rate,\n",
    "    checkpoint_path=\"normal_checkpoint\",\n",
    "    logger=LOGGER,\n",
    ")\n",
    "\n",
    "normal_loss = normal_trainer.train()\n",
    "normal_trainer.save()"
   ]
  },
  {
   "cell_type": "code",
   "execution_count": null,
   "metadata": {},
   "outputs": [],
   "source": [
    "attention_trainer = Trainer(\n",
    "    train_dataloader=dataloader,\n",
    "    encoder=encoder,\n",
    "    decoder=attention_decoder,\n",
    "    num_epochs=num_epochs,\n",
    "    learning_rate=learning_rate,\n",
    "    checkpoint_path=\"attention_checkpoint\",\n",
    "    logger=LOGGER,\n",
    ")\n",
    "attention_loss = attention_trainer.train()\n",
    "attention_trainer.save()"
   ]
  }
 ],
 "metadata": {
  "kernelspec": {
   "display_name": "bin",
   "language": "python",
   "name": "python3"
  },
  "language_info": {
   "codemirror_mode": {
    "name": "ipython",
    "version": 3
   },
   "file_extension": ".py",
   "mimetype": "text/x-python",
   "name": "python",
   "nbconvert_exporter": "python",
   "pygments_lexer": "ipython3",
   "version": "3.10.13"
  }
 },
 "nbformat": 4,
 "nbformat_minor": 2
}
